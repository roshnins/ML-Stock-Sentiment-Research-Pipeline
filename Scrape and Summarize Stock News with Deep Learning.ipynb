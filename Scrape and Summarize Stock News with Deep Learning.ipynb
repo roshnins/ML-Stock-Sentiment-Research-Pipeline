{
 "cells": [
  {
   "cell_type": "markdown",
   "id": "baa4772b",
   "metadata": {},
   "source": [
    "# 1. Install and Import Baseline Dependencies"
   ]
  },
  {
   "cell_type": "code",
   "execution_count": 2,
   "id": "98ecb0f3",
   "metadata": {},
   "outputs": [
    {
     "name": "stdout",
     "output_type": "stream",
     "text": [
      "Requirement already satisfied: transformers in /Library/Frameworks/Python.framework/Versions/3.10/lib/python3.10/site-packages (4.22.1)\n",
      "Requirement already satisfied: packaging>=20.0 in /Library/Frameworks/Python.framework/Versions/3.10/lib/python3.10/site-packages (from transformers) (21.3)\n",
      "Requirement already satisfied: tqdm>=4.27 in /Library/Frameworks/Python.framework/Versions/3.10/lib/python3.10/site-packages (from transformers) (4.64.1)\n",
      "Requirement already satisfied: numpy>=1.17 in /Library/Frameworks/Python.framework/Versions/3.10/lib/python3.10/site-packages (from transformers) (1.23.3)\n",
      "Requirement already satisfied: pyyaml>=5.1 in /Library/Frameworks/Python.framework/Versions/3.10/lib/python3.10/site-packages (from transformers) (6.0)\n",
      "Requirement already satisfied: tokenizers!=0.11.3,<0.13,>=0.11.1 in /Library/Frameworks/Python.framework/Versions/3.10/lib/python3.10/site-packages (from transformers) (0.12.1)\n",
      "Requirement already satisfied: huggingface-hub<1.0,>=0.9.0 in /Library/Frameworks/Python.framework/Versions/3.10/lib/python3.10/site-packages (from transformers) (0.9.1)\n",
      "Requirement already satisfied: filelock in /Library/Frameworks/Python.framework/Versions/3.10/lib/python3.10/site-packages (from transformers) (3.8.0)\n",
      "Requirement already satisfied: requests in /Library/Frameworks/Python.framework/Versions/3.10/lib/python3.10/site-packages (from transformers) (2.28.1)\n",
      "Requirement already satisfied: regex!=2019.12.17 in /Library/Frameworks/Python.framework/Versions/3.10/lib/python3.10/site-packages (from transformers) (2022.9.13)\n",
      "Requirement already satisfied: typing-extensions>=3.7.4.3 in /Library/Frameworks/Python.framework/Versions/3.10/lib/python3.10/site-packages (from huggingface-hub<1.0,>=0.9.0->transformers) (4.3.0)\n",
      "Requirement already satisfied: pyparsing!=3.0.5,>=2.0.2 in /Library/Frameworks/Python.framework/Versions/3.10/lib/python3.10/site-packages (from packaging>=20.0->transformers) (3.0.9)\n",
      "Requirement already satisfied: idna<4,>=2.5 in /Library/Frameworks/Python.framework/Versions/3.10/lib/python3.10/site-packages (from requests->transformers) (3.4)\n",
      "Requirement already satisfied: certifi>=2017.4.17 in /Library/Frameworks/Python.framework/Versions/3.10/lib/python3.10/site-packages (from requests->transformers) (2022.9.14)\n",
      "Requirement already satisfied: urllib3<1.27,>=1.21.1 in /Library/Frameworks/Python.framework/Versions/3.10/lib/python3.10/site-packages (from requests->transformers) (1.26.12)\n",
      "Requirement already satisfied: charset-normalizer<3,>=2 in /Library/Frameworks/Python.framework/Versions/3.10/lib/python3.10/site-packages (from requests->transformers) (2.1.1)\n"
     ]
    }
   ],
   "source": [
    "!pip install transformers"
   ]
  },
  {
   "cell_type": "code",
   "execution_count": 3,
   "id": "56b5029a",
   "metadata": {},
   "outputs": [
    {
     "name": "stdout",
     "output_type": "stream",
     "text": [
      "Collecting bs4\n",
      "  Using cached bs4-0.0.1.tar.gz (1.1 kB)\n",
      "  Preparing metadata (setup.py) ... \u001b[?25ldone\n",
      "\u001b[?25hRequirement already satisfied: beautifulsoup4 in /Library/Frameworks/Python.framework/Versions/3.10/lib/python3.10/site-packages (from bs4) (4.11.1)\n",
      "Requirement already satisfied: soupsieve>1.2 in /Library/Frameworks/Python.framework/Versions/3.10/lib/python3.10/site-packages (from beautifulsoup4->bs4) (2.3.2.post1)\n",
      "Using legacy 'setup.py install' for bs4, since package 'wheel' is not installed.\n",
      "Installing collected packages: bs4\n",
      "  Running setup.py install for bs4 ... \u001b[?25ldone\n",
      "\u001b[?25hSuccessfully installed bs4-0.0.1\n"
     ]
    }
   ],
   "source": [
    "!pip install bs4"
   ]
  },
  {
   "cell_type": "code",
   "execution_count": 4,
   "id": "1da900dd",
   "metadata": {},
   "outputs": [
    {
     "name": "stdout",
     "output_type": "stream",
     "text": [
      "Collecting sentencepiece\n",
      "  Using cached sentencepiece-0.1.97-cp310-cp310-macosx_10_9_x86_64.whl (1.2 MB)\n",
      "Installing collected packages: sentencepiece\n",
      "Successfully installed sentencepiece-0.1.97\n"
     ]
    }
   ],
   "source": [
    "!pip install sentencepiece"
   ]
  },
  {
   "cell_type": "code",
   "execution_count": 5,
   "id": "992ca857",
   "metadata": {},
   "outputs": [
    {
     "name": "stdout",
     "output_type": "stream",
     "text": [
      "Requirement already satisfied: torch in /Library/Frameworks/Python.framework/Versions/3.10/lib/python3.10/site-packages (1.12.1)\n",
      "Requirement already satisfied: torchvision in /Library/Frameworks/Python.framework/Versions/3.10/lib/python3.10/site-packages (0.13.1)\n",
      "Requirement already satisfied: typing-extensions in /Library/Frameworks/Python.framework/Versions/3.10/lib/python3.10/site-packages (from torch) (4.3.0)\n",
      "Requirement already satisfied: pillow!=8.3.*,>=5.3.0 in /Library/Frameworks/Python.framework/Versions/3.10/lib/python3.10/site-packages (from torchvision) (9.2.0)\n",
      "Requirement already satisfied: numpy in /Library/Frameworks/Python.framework/Versions/3.10/lib/python3.10/site-packages (from torchvision) (1.23.3)\n",
      "Requirement already satisfied: requests in /Library/Frameworks/Python.framework/Versions/3.10/lib/python3.10/site-packages (from torchvision) (2.28.1)\n",
      "Requirement already satisfied: certifi>=2017.4.17 in /Library/Frameworks/Python.framework/Versions/3.10/lib/python3.10/site-packages (from requests->torchvision) (2022.9.14)\n",
      "Requirement already satisfied: idna<4,>=2.5 in /Library/Frameworks/Python.framework/Versions/3.10/lib/python3.10/site-packages (from requests->torchvision) (3.4)\n",
      "Requirement already satisfied: charset-normalizer<3,>=2 in /Library/Frameworks/Python.framework/Versions/3.10/lib/python3.10/site-packages (from requests->torchvision) (2.1.1)\n",
      "Requirement already satisfied: urllib3<1.27,>=1.21.1 in /Library/Frameworks/Python.framework/Versions/3.10/lib/python3.10/site-packages (from requests->torchvision) (1.26.12)\n"
     ]
    }
   ],
   "source": [
    "!pip install torch torchvision"
   ]
  },
  {
   "cell_type": "code",
   "execution_count": 6,
   "id": "3a9930d4",
   "metadata": {},
   "outputs": [
    {
     "name": "stderr",
     "output_type": "stream",
     "text": [
      "/Users/roshnisaravanan/Documents/ML-Projects/stock-crypto-research-app/researchapp/lib/python3.10/site-packages/tqdm/auto.py:22: TqdmWarning: IProgress not found. Please update jupyter and ipywidgets. See https://ipywidgets.readthedocs.io/en/stable/user_install.html\n",
      "  from .autonotebook import tqdm as notebook_tqdm\n"
     ]
    }
   ],
   "source": [
    "# Importing componenents from Hugging Face NLP Library (Transformers)\n",
    "# Pegasus is a deep learning architecture that is already trained\n",
    "from transformers import PegasusTokenizer, PegasusForConditionalGeneration\n",
    "# Scrape news\n",
    "from bs4 import BeautifulSoup\n",
    "# Requests to web\n",
    "import requests"
   ]
  },
  {
   "cell_type": "markdown",
   "id": "5a69816b",
   "metadata": {},
   "source": [
    "# 2. Setup Summarization Model"
   ]
  },
  {
   "cell_type": "code",
   "execution_count": 7,
   "id": "4e0388f0",
   "metadata": {},
   "outputs": [],
   "source": [
    "# Download the model\n",
    "model_name = \"human-centered-summarization/financial-summarization-pegasus\"\n",
    "# Tokenizer Encodes and Decodes text\n",
    "tokenizer = PegasusTokenizer.from_pretrained(model_name)\n",
    "model = PegasusForConditionalGeneration.from_pretrained(model_name)\n",
    " "
   ]
  },
  {
   "cell_type": "markdown",
   "id": "62f8f1b2",
   "metadata": {},
   "source": [
    "# 3. Summarize a Single Article"
   ]
  },
  {
   "cell_type": "code",
   "execution_count": 12,
   "id": "e0a3bd81",
   "metadata": {},
   "outputs": [],
   "source": [
    "url = \"https://finance.yahoo.com/news/stock-market-news-live-updates-october-3-2022-104213864.html\"\n",
    "# Making request\n",
    "r = requests.get(url)\n",
    "soup = BeautifulSoup(r.text, 'html.parser')\n",
    "# Getting all the paragraphs from the webpage\n",
    "paragraphs = soup.find_all('p')"
   ]
  },
  {
   "cell_type": "code",
   "execution_count": 14,
   "id": "a7c549de",
   "metadata": {},
   "outputs": [
    {
     "data": {
      "text/plain": [
       "[<p> </p>,\n",
       " <p>U.S. equity futures zigzagged Monday morning after the S&amp;P 500 and Nasdaq Composite <a class=\"link yahoo-link\" data-ylk=\"slk:closed out their first three-quarter losing streak;outcm:mb_qualified_link;_E:mb_qualified_link;ct:story;\" href=\"https://finance.yahoo.com/news/stock-market-news-live-updates-september-30-2022-112137262.html\">closed out their first three-quarter losing streak</a> since the 2008 Global Financial Crisis and the Dow its first such time since 2015.</p>,\n",
       " <p>Futures tied to the benchmark S&amp;P 500 index nudged up 0.2%, while Dow Jones Industrial futures jumped 100 points, or around 0.4%. Meanwhile, contracts on the technology-heavy Nasdaq Composite slipped by about 0.2%.</p>,\n",
       " <p>Sizeable moves in energy markets kicked off the week, with oil prices swinging higher as reports surfaced that OPEC+ is considering a big production cut of more than one billion barrels per day. West Texas Intermediate (WTI) crude oil futures bounced 4.1% to $82.71 per barrel, while Brent crude climbed about 3.9% to $88.45 per barrel.</p>,\n",
       " <p>On the corporate front, shares of Credit Suisse (<a class=\"link\" data-ylk=\"slk:CS\" href=\"https://finance.yahoo.com/quote/CS?p=CS&amp;.tsrc=fin-srch\">CS</a>) plunged as much as 10% before the open to a fresh low after the global investment bank’s CEO <a class=\"link yahoo-link\" data-ylk=\"slk:issued a memo over the weekend attempting to calm;outcm:mb_qualified_link;_E:mb_qualified_link;ct:story;\" href=\"https://ca.finance.yahoo.com/news/credit-suisse-ceo-seeks-calm-133223291.html\">issued a memo over the weekend attempting to calm</a> major investors about the institution’s financial health – an effort that backfired and instead raised questions about its financial stability.</p>,\n",
       " <p>The bank said last week that it was exploring potential sales of assets and certain business units as part of a strategic plan set to be revealed at the end of the month.</p>,\n",
       " <p>Tesla (<a class=\"link\" data-ylk=\"slk:TSLA\" href=\"https://finance.yahoo.com/quote/TSLA?p=TSLA&amp;.tsrc=fin-srch\">TSLA</a>) stock was also a mover Monday morning after the electric vehicle giant reported Sunday that it delivered 343,830 cars in the third quarter, a fresh record that came even as the company grappled with the shutdown of its China factory. Still, the figure came in below Wall Street expectations, which ranged from 358,000 to 371,000 vehicles. Shares fell more than 4% pre-market.</p>,\n",
       " <p>Investors are reeling from a brutal month and quarter that saw all three major averages enter a bear market. In September, the S&amp;P 500 recorded a 9.3% loss, its worst monthly decline since the onset of the pandemic in March 2020. The Dow erased more than 8% and the Nasdaq Composite more than 10%. For the quarter, the indexes shed roughly 5.3%, 4.1% and 6.7%, respectively.</p>,\n",
       " <p>As Wall Street turned the page, some strategists look ahead to October, which has been deemed a “bear-market killer” based on historically strong returns, especially in midterm election years. Every time the S&amp;P 500 has dropped 7% or more in September, stocks have done well in October, Carson Group’s Ryan Detrick noted.</p>,\n",
       " <p>A <a class=\"link yahoo-link\" data-ylk=\"slk:high-stakes earnings season;outcm:mb_qualified_link;_E:mb_qualified_link;ct:story;\" href=\"https://finance.yahoo.com/news/what-should-investors-focus-on-after-a-rocky-quarter-its-all-about-earnings-morning-brief-100029724.html\">high-stakes earnings season</a> likely to be wrought by slashed forecasts and worsening fundamentals tied to inflation and rising interest rates, however, makes this time different.</p>,\n",
       " <p>“The focus will be on earnings because we’re going from a moderation shock, with higher interest rates, to a growth shock,” Luca Paolini, chief strategist at Pictet Asset Management, <a class=\"link yahoo-link\" data-ylk=\"slk:told Yahoo Finance Live;outcm:mb_qualified_link;_E:mb_qualified_link;ct:story;\" href=\"https://finance.yahoo.com/video/uks-policy-experiment-going-terribly-133512211.html\">told Yahoo Finance Live</a> in a recent interview. “This is where we feel more worried, and next earnings season is going to be really critical.”</p>,\n",
       " <p>—</p>,\n",
       " <p><strong><em>Alexandra Semenova is a reporter for Yahoo Finance. Follow her on Twitter </em></strong><a class=\"link\" data-ylk=\"slk:@alexandraandnyc\" href=\"https://twitter.com/alexandraandnyc\" rel=\"nofollow noopener\" target=\"_blank\"><strong><em>@alexandraandnyc</em></strong></a></p>,\n",
       " <p><a class=\"link\" data-ylk=\"slk:Click here for the latest trending stock tickers of the Yahoo Finance platform\" href=\"https://finance.yahoo.com/trending-tickers/\"><strong>Click here for the latest trending stock tickers of the Yahoo Finance platform</strong></a></p>,\n",
       " <p><a class=\"link\" data-ylk=\"slk:Click here for the latest stock market news and in-depth analysis, including events that move stocks\" href=\"https://finance.yahoo.com/topic/stock-market-news/\"><strong>Click here for the latest stock market news and in-depth analysis, including events that move stocks</strong></a></p>,\n",
       " <p><a class=\"link\" data-ylk=\"slk:Read the latest financial and business news from Yahoo Finance\" href=\"https://finance.yahoo.com/news/\"><strong>Read the latest financial and business news from Yahoo Finance</strong></a></p>,\n",
       " <p><em>Download the Yahoo Finance app for </em><a class=\"link\" data-ylk=\"slk:Apple\" href=\"https://itunes.apple.com/ca/app/yahoo-finance/id328412701?mt=8\" rel=\"nofollow noopener\" target=\"_blank\"><em>Apple</em></a><em> or </em><a class=\"link\" data-ylk=\"slk:Android\" href=\"https://play.google.com/store/apps/details?id=com.yahoo.mobile.client.android.finance&amp;hl=en\" rel=\"nofollow noopener\" target=\"_blank\"><em>Android</em></a></p>,\n",
       " <p><em>Follow Yahoo Finance on </em><a class=\"link\" data-ylk=\"slk:Twitter\" href=\"https://twitter.com/YahooFinance\" rel=\"nofollow noopener\" target=\"_blank\"><em>Twitter</em></a><em>, </em><a class=\"link\" data-ylk=\"slk:Facebook\" href=\"https://www.facebook.com/yahoofinance/\" rel=\"nofollow noopener\" target=\"_blank\"><em>Facebook</em></a><em>, </em><a class=\"link\" data-ylk=\"slk:Instagram\" href=\"https://www.instagram.com/yahoofinance/?hl=en\" rel=\"nofollow noopener\" target=\"_blank\"><em>Instagram</em></a><em>, </em><a class=\"link\" data-ylk=\"slk:Flipboard\" href=\"https://flipboard.com/topic/yahoofinance\" rel=\"nofollow noopener\" target=\"_blank\"><em>Flipboard</em></a><em>, </em><a class=\"link\" data-ylk=\"slk:LinkedIn\" href=\"https://www.linkedin.com/company/yahoo-finance\" rel=\"nofollow noopener\" target=\"_blank\"><em>LinkedIn</em></a><em>, and</em><a class=\"link\" data-ylk=\"slk:YouTube\" href=\"http://youtube.com/c/yahoofinance?sub_confirmation=1\" rel=\"nofollow noopener\" target=\"_blank\"><em> YouTube</em></a></p>,\n",
       " <p class=\"Va(m) Fw(b) Fz(s) C($primaryColor) Wow(bw) Us(n)\">Related Quotes</p>,\n",
       " <p class=\"M(0) C($summaryColor) Fz(14px) Lh(1.43em) LineClamp(3,60px)\">Credit Suisse is one of 30 systemically important banks. Its stock was slammed on Monday, as credit-default swaps widened.</p>,\n",
       " <p class=\"M(0) C($summaryColor) Fz(14px) Lh(1.43em) LineClamp(3,60px)\">The stock market is often a game in reverse psychology. That is, when the mood gets too euphoric, it’s often a sign it is time to sell. Likewise, when sentiment hits the skids, that could be the ultimate signal the time is right to load up the truck. And on that subject, J.P. Morgan’s Marko Kolanovic thinks we are at – or at least near – the bottom. The firm’s global market strategist believes the Fed’s hawkish stance has left stocks “very oversold,” and while inflation remains persistently high</p>,\n",
       " <p class=\"M(0) C($summaryColor) Fz(14px) Lh(1.43em) LineClamp(3,60px)\">Buy and hold forever? Not always.</p>,\n",
       " <p class=\"M(0) C($summaryColor) Fz(14px) Lh(1.43em) LineClamp(3,60px)\">When it comes to high-performance chips, Nvidia (NASDAQ: NVDA) and Advanced Micro Devices (NASDAQ: AMD) are at the forefront of the semiconductor industry.  The companies' products aren't just used for video game hardware, they've also expanded to be crucial components for data centers, artificial intelligence, machine vision, and other applications.  Nvidia stock is down roughly 59% across this year's trading, while AMD is down approximately 55%.</p>,\n",
       " <p class=\"M(0) C($summaryColor) Fz(14px) Lh(1.43em) LineClamp(3,60px)\">The bear market in software stocks has already lasted far longer than the typical decline, according to MoffettNathanson,</p>,\n",
       " <p class=\"M(0) C($summaryColor) Fz(14px) Lh(1.43em) LineClamp(3,60px)\">Futures rise with the bear market at lows. Tesla deliveries hit a record in Q3, but fell well short of Q3 views. China EV makers reported too.</p>,\n",
       " <p class=\"M(0) C($summaryColor) Fz(14px) Lh(1.43em) LineClamp(3,60px)\">(Bloomberg) -- Porsche AG stock traded below the price it debuted at last week, succumbing to the market pressures Volkswagen AG defied by going ahead with Europe’s biggest initial public offering in more than a decade.Most Read from BloombergCredit Suisse Turmoil Deepens With Record Stock, CDS LevelsTesla Slumps as Deliveries Disappoint Due to Logistic SnarlsOPEC+ to Consider Output Cut of More Than 1 Million BarrelsUkraine Latest: Zelenskiy Says Lyman ‘Fully Cleared’ of RussiansGet Ready for A</p>,\n",
       " <p class=\"M(0) C($summaryColor) Fz(14px) Lh(1.43em) LineClamp(3,60px)\">(Bloomberg) -- Most Read from BloombergCredit Suisse Turmoil Deepens With Record Stock, CDS LevelsTesla Slumps as Deliveries Disappoint Due to Logistic SnarlsOPEC+ to Consider Output Cut of More Than 1 Million BarrelsUkraine Latest: Zelenskiy Says Lyman ‘Fully Cleared’ of RussiansGet Ready for Another Bear-Market Rally, Strategist Emanuel SaysCredit Suisse Group AG’s gauge of credit risk rose to a record high while its stock hit a fresh low, adding to the turmoil after the bank’s attempts to rea</p>,\n",
       " <p class=\"M(0) C($summaryColor) Fz(14px) Lh(1.43em) LineClamp(3,60px)\">Tesla delivered about 344,000 vehicles in the third quarter. That fell short of Wall Street estimates. Tesla blamed cars in transit.</p>,\n",
       " <p class=\"M(0) C($summaryColor) Fz(14px) Lh(1.43em) LineClamp(3,60px)\">The stock market sell-off of 2022 led to a sharp decline in the value of some high-profile names that once traded at (or near) the eye-popping market cap of $1 trillion.  Tesla (NASDAQ: TSLA) and Meta Platforms (NASDAQ: META) are two big tech names that became trillion-dollar companies before the broad market sell-off dented their market caps significantly.  Tesla, for instance, currently has a market cap of $840 billion.</p>,\n",
       " <p class=\"M(0) C($summaryColor) Fz(14px) Lh(1.43em) LineClamp(3,60px)\">(Bloomberg) -- Michael J. Wilson, one of Wall Street’s biggest equity bears, says a Federal Reserve pivot to dovishness is becoming likely amid falling money supply, but such a move won’t allay concerns about earnings. Most Read from BloombergCredit Suisse Turmoil Deepens With Record Stock, CDS LevelsTesla Slumps as Deliveries Disappoint Due to Logistic SnarlsOPEC+ to Consider Output Cut of More Than 1 Million BarrelsUkraine Latest: Zelenskiy Says Lyman ‘Fully Cleared’ of RussiansGet Ready for A</p>,\n",
       " <p class=\"M(0) C($summaryColor) Fz(14px) Lh(1.43em) LineClamp(3,60px)\">(Bloomberg) -- Tesla Inc. shares dropped in early trading after the carmaker blamed a disappointing deliveries report on shipment issues that increased the number of vehicles that were on their way to customers as the quarter came to a close.Most Read from BloombergCredit Suisse Turmoil Deepens With Record Stock, CDS LevelsTesla Slumps as Deliveries Disappoint Due to Logistic SnarlsOPEC+ to Consider Output Cut of More Than 1 Million BarrelsUkraine Latest: Zelenskiy Says Lyman ‘Fully Cleared’ of</p>,\n",
       " <p class=\"M(0) C($summaryColor) Fz(14px) Lh(1.43em) LineClamp(3,60px)\">Reinvesting all the dividend payouts you receive from this stock could double your initial investment in four short years.</p>,\n",
       " <p class=\"M(0) C($summaryColor) Fz(14px) Lh(1.43em) LineClamp(3,60px)\">The recent bear market has considerably reduced the appeal of most stocks.  With many growth stocks down 75% or more from their highs, investors have increasingly looked to other investment vehicles.  Three discounted tech stocks that would make great permanent additions to your portfolio are Microsoft (NASDAQ: MSFT), Axon Enterprise (NASDAQ: AXON), and Zoom Video Communications (NASDAQ: ZM).</p>,\n",
       " <p class=\"M(0) C($summaryColor) Fz(14px) Lh(1.43em) LineClamp(3,60px)\">All three of these stocks are attractively valued even though they're beating the market this year.</p>,\n",
       " <p class=\"M(0) C($summaryColor) Fz(14px) Lh(1.43em) LineClamp(3,60px)\">Have an issue with your financial adviser or have questions about hiring a new one? Email picks@marketwatch.com.</p>,\n",
       " <p class=\"M(0) C($summaryColor) Fz(14px) Lh(1.43em) LineClamp(3,60px)\">(Bloomberg) -- The relentless plunge in China’s stocks has burnished the appeal of their biggest emerging-market rival India, spurring a divergence that’s rarely been seen before. Most Read from BloombergCredit Suisse CEO Seeks to Calm Markets as Default Swaps ClimbTesla Deliveries Miss Estimates, Slowed by Logistic SnarlsOPEC+ to Consider Output Cut of More Than 1 Million BarrelsGet Ready for Another Bear-Market Rally, Strategist Emanuel SaysUkraine Latest: Zelenskiy Says Lyman ‘Fully Cleared’</p>,\n",
       " <p class=\"M(0) C($summaryColor) Fz(14px) Lh(1.43em) LineClamp(3,60px)\">The \"three stocks to avoid\" in my column last week that I thought were going to lose to the market -- Cracker Barrel Old Country Store (NASDAQ: CBRL), Rite Aid (NYSE: RAD), and Lennar (NYSE: LEN) -- fell 6%, 29%, and 3%, respectively, averaging out to a 12.7% decline.  The country's most valuable company by market cap -- the only one currently perched above $2 trillion in value -- proved mortal last week.</p>,\n",
       " <p class=\"M(0) C($summaryColor) Fz(14px) Lh(1.43em) LineClamp(3,60px)\">Can it get even worse in the fourth quarter for investors? Maybe. More on that and what else to watch in markets for Monday, October 3, 2022.</p>,\n",
       " <p class=\"M(0) C($summaryColor) Fz(14px) Lh(1.43em) LineClamp(3,60px)\">The global research team at BofA Securities, led by Michael Hartnett, has navigated the curveballs thrown by 2022 far better than most.</p>]"
      ]
     },
     "execution_count": 14,
     "metadata": {},
     "output_type": "execute_result"
    }
   ],
   "source": [
    "paragraphs"
   ]
  },
  {
   "cell_type": "code",
   "execution_count": null,
   "id": "fa87b0f4",
   "metadata": {},
   "outputs": [],
   "source": []
  },
  {
   "cell_type": "code",
   "execution_count": null,
   "id": "9a226c05",
   "metadata": {},
   "outputs": [],
   "source": []
  },
  {
   "cell_type": "code",
   "execution_count": null,
   "id": "f3916e82",
   "metadata": {},
   "outputs": [],
   "source": []
  },
  {
   "cell_type": "code",
   "execution_count": null,
   "id": "24de9710",
   "metadata": {},
   "outputs": [],
   "source": []
  },
  {
   "cell_type": "code",
   "execution_count": null,
   "id": "4320ba1a",
   "metadata": {},
   "outputs": [],
   "source": []
  }
 ],
 "metadata": {
  "kernelspec": {
   "display_name": "researchapp",
   "language": "python",
   "name": "researchapp"
  },
  "language_info": {
   "codemirror_mode": {
    "name": "ipython",
    "version": 3
   },
   "file_extension": ".py",
   "mimetype": "text/x-python",
   "name": "python",
   "nbconvert_exporter": "python",
   "pygments_lexer": "ipython3",
   "version": "3.10.6"
  }
 },
 "nbformat": 4,
 "nbformat_minor": 5
}
